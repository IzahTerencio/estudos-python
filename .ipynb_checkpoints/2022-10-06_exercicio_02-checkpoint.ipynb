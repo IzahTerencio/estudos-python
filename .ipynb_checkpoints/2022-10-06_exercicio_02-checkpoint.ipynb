{
 "cells": [
  {
   "cell_type": "code",
   "execution_count": 1,
   "id": "ac28fac9",
   "metadata": {},
   "outputs": [
    {
     "name": "stdout",
     "output_type": "stream",
     "text": [
      "5\n",
      "12\n",
      "3.4\n",
      "8\n"
     ]
    }
   ],
   "source": [
    "print(10 - 5) # Subtração\n",
    "print(4 * 3)  # Multiplicação\n",
    "print(17/5)   # Divisão\n",
    "print(2**3)   # Exponenciação"
   ]
  },
  {
   "cell_type": "code",
   "execution_count": 2,
   "id": "8639082b",
   "metadata": {},
   "outputs": [
    {
     "name": "stdout",
     "output_type": "stream",
     "text": [
      "2\n"
     ]
    }
   ],
   "source": [
    "print(5//2) # Retorna a parte inteira da divisão"
   ]
  },
  {
   "cell_type": "code",
   "execution_count": 3,
   "id": "fed78625",
   "metadata": {},
   "outputs": [
    {
     "name": "stdout",
     "output_type": "stream",
     "text": [
      "1\n"
     ]
    }
   ],
   "source": [
    "print(5%2) # Retorna o resto da divisão"
   ]
  }
 ],
 "metadata": {
  "kernelspec": {
   "display_name": "Python 3 (ipykernel)",
   "language": "python",
   "name": "python3"
  },
  "language_info": {
   "codemirror_mode": {
    "name": "ipython",
    "version": 3
   },
   "file_extension": ".py",
   "mimetype": "text/x-python",
   "name": "python",
   "nbconvert_exporter": "python",
   "pygments_lexer": "ipython3",
   "version": "3.8.10"
  }
 },
 "nbformat": 4,
 "nbformat_minor": 5
}
