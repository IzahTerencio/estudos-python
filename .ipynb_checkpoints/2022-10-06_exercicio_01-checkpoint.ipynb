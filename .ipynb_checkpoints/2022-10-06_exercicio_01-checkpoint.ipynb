{
 "cells": [
  {
   "cell_type": "code",
   "execution_count": 3,
   "id": "6f4a3a45",
   "metadata": {},
   "outputs": [
    {
     "name": "stdout",
     "output_type": "stream",
     "text": [
      "Olá, mundo!\n",
      "Me chamo Izabella\n",
      "OláTudo bem?\n"
     ]
    }
   ],
   "source": [
    "print(\"Olá, mundo!\")\n",
    "print('Me chamo Izabella')"
   ]
  },
  {
   "cell_type": "code",
   "execution_count": 4,
   "id": "09ef46e1",
   "metadata": {},
   "outputs": [
    {
     "name": "stdout",
     "output_type": "stream",
     "text": [
      "OláTudo bem?\n"
     ]
    }
   ],
   "source": [
    "print(\"Olá\" 'Tudo bem?')"
   ]
  },
  {
   "cell_type": "code",
   "execution_count": 5,
   "id": "ea3eb8a3",
   "metadata": {},
   "outputs": [
    {
     "name": "stdout",
     "output_type": "stream",
     "text": [
      "Olá\n",
      "Tudo bem?\n"
     ]
    }
   ],
   "source": [
    "print('Olá')\n",
    "print(\"Tudo bem?\")"
   ]
  },
  {
   "cell_type": "code",
   "execution_count": 6,
   "id": "d7c2f9ac",
   "metadata": {},
   "outputs": [
    {
     "name": "stdout",
     "output_type": "stream",
     "text": [
      "Olá\n"
     ]
    }
   ],
   "source": [
    "#Isto é um comentário\n",
    "print(\"Olá\")"
   ]
  },
  {
   "cell_type": "code",
   "execution_count": 7,
   "id": "c7413681",
   "metadata": {},
   "outputs": [
    {
     "name": "stdout",
     "output_type": "stream",
     "text": [
      "11\n"
     ]
    }
   ],
   "source": [
    "print(5+6)"
   ]
  },
  {
   "cell_type": "code",
   "execution_count": null,
   "id": "82404977",
   "metadata": {},
   "outputs": [],
   "source": []
  }
 ],
 "metadata": {
  "kernelspec": {
   "display_name": "Python 3 (ipykernel)",
   "language": "python",
   "name": "python3"
  },
  "language_info": {
   "codemirror_mode": {
    "name": "ipython",
    "version": 3
   },
   "file_extension": ".py",
   "mimetype": "text/x-python",
   "name": "python",
   "nbconvert_exporter": "python",
   "pygments_lexer": "ipython3",
   "version": "3.8.10"
  }
 },
 "nbformat": 4,
 "nbformat_minor": 5
}
